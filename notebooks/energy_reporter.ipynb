{
 "cells": [
  {
   "cell_type": "markdown",
   "metadata": {},
   "source": [
    "# Energy Reporter basic Analysis"
   ]
  },
  {
   "cell_type": "markdown",
   "metadata": {},
   "source": [
    "## Energy Reporter Data\n",
    "This dataset was made by **geoimpact AG** , **WWF Switzerland** and **EnergySwiss** using data from [OFROU](https://www.astra.admin.ch/astra/fr/home.html) and [swisstopo](https://www.swisstopo.admin.ch/). This dataset contains government data that describes how advanced each swiss municipality is in terms of renewable energy. The dataset has monthly data (earliest data is march 2021) of 3 indicators:\n",
    "* Renewable_heating_share: share of buildings with renewable heat technologies\n",
    "* electric_car_share:  share of electric cars\n",
    "* solar_potential_usage: share of roof area that is economically and technologically exploitable that already has solar panels installed\n"
   ]
  },
  {
   "cell_type": "code",
   "execution_count": 1,
   "metadata": {},
   "outputs": [],
   "source": [
    "import pandas as pd\n",
    "import matplotlib.pyplot as plt\n",
    "import matplotlib.ticker as ticker\n",
    "import plotly.express as px\n",
    "\n",
    " \n",
    "## EXAMPLE: https://www.suisseenergie.ch/tools/reporterenergie/\n",
    "#BASIC PATHS\n",
    "DATA_FOLDER_PATH = '../data/'\n",
    "ENERGY_REPORTER_HISTORY_PATH = DATA_FOLDER_PATH + 'energyreporter_historized/'\n",
    "ENERGY_REPORTER_LATEST_PATH = DATA_FOLDER_PATH + 'energyreporter_latest/'\n",
    "\n",
    "#CSV FILE HISTORIZED PATHS\n",
    "ENERGY_REPORTER_HISTORY_CANTON_PATH = ENERGY_REPORTER_HISTORY_PATH + 'energyreporter_canton_historized.csv'\n",
    "ENERGY_REPORTER_HISTORY_MUNICIPALITY_PATH = ENERGY_REPORTER_HISTORY_PATH + 'energyreporter_municipality_historized.csv'\n",
    "ENERGY_REPORTER_HISTORY_NATIONALITY_PATH = ENERGY_REPORTER_HISTORY_PATH + 'energyreporter_national_historized.csv'"
   ]
  },
  {
   "cell_type": "markdown",
   "metadata": {},
   "source": [
    "There are 3 dataframes:\n",
    "* `df_canton` which contains the data of every canton\n",
    "* `df_municipality` which contains the data of every municipality\n",
    "* `df_nationality` which contains the data of switzerland as as whole"
   ]
  },
  {
   "cell_type": "code",
   "execution_count": 2,
   "metadata": {},
   "outputs": [
    {
     "name": "stdout",
     "output_type": "stream",
     "text": [
      "df_canton:\n"
     ]
    },
    {
     "data": {
      "text/html": [
       "<div>\n",
       "<style scoped>\n",
       "    .dataframe tbody tr th:only-of-type {\n",
       "        vertical-align: middle;\n",
       "    }\n",
       "\n",
       "    .dataframe tbody tr th {\n",
       "        vertical-align: top;\n",
       "    }\n",
       "\n",
       "    .dataframe thead th {\n",
       "        text-align: right;\n",
       "    }\n",
       "</style>\n",
       "<table border=\"1\" class=\"dataframe\">\n",
       "  <thead>\n",
       "    <tr style=\"text-align: right;\">\n",
       "      <th></th>\n",
       "      <th>canton</th>\n",
       "      <th>energyreporter_date</th>\n",
       "      <th>electric_car_share</th>\n",
       "      <th>electric_car_share_last_change</th>\n",
       "      <th>solar_potential_usage</th>\n",
       "      <th>solar_potential_usage_last_change</th>\n",
       "      <th>renewable_heating_share</th>\n",
       "      <th>renewable_heating_share_coverage</th>\n",
       "      <th>renewable_heating_share_last_change</th>\n",
       "    </tr>\n",
       "  </thead>\n",
       "  <tbody>\n",
       "    <tr>\n",
       "      <th>0</th>\n",
       "      <td>AG</td>\n",
       "      <td>2021-03-31</td>\n",
       "      <td>0.009552</td>\n",
       "      <td>2021-02-28</td>\n",
       "      <td>0.036269</td>\n",
       "      <td>2020-12-03</td>\n",
       "      <td>0.343695</td>\n",
       "      <td>0.982558</td>\n",
       "      <td>2021-03-10</td>\n",
       "    </tr>\n",
       "  </tbody>\n",
       "</table>\n",
       "</div>"
      ],
      "text/plain": [
       "  canton energyreporter_date  electric_car_share  \\\n",
       "0     AG          2021-03-31            0.009552   \n",
       "\n",
       "  electric_car_share_last_change  solar_potential_usage  \\\n",
       "0                     2021-02-28               0.036269   \n",
       "\n",
       "  solar_potential_usage_last_change  renewable_heating_share  \\\n",
       "0                        2020-12-03                 0.343695   \n",
       "\n",
       "   renewable_heating_share_coverage renewable_heating_share_last_change  \n",
       "0                          0.982558                          2021-03-10  "
      ]
     },
     "metadata": {},
     "output_type": "display_data"
    },
    {
     "name": "stdout",
     "output_type": "stream",
     "text": [
      "df_municipality:\n"
     ]
    },
    {
     "data": {
      "text/html": [
       "<div>\n",
       "<style scoped>\n",
       "    .dataframe tbody tr th:only-of-type {\n",
       "        vertical-align: middle;\n",
       "    }\n",
       "\n",
       "    .dataframe tbody tr th {\n",
       "        vertical-align: top;\n",
       "    }\n",
       "\n",
       "    .dataframe thead th {\n",
       "        text-align: right;\n",
       "    }\n",
       "</style>\n",
       "<table border=\"1\" class=\"dataframe\">\n",
       "  <thead>\n",
       "    <tr style=\"text-align: right;\">\n",
       "      <th></th>\n",
       "      <th>bfs_nr</th>\n",
       "      <th>municipality</th>\n",
       "      <th>canton</th>\n",
       "      <th>energyreporter_date</th>\n",
       "      <th>electric_car_share</th>\n",
       "      <th>electric_car_share_last_change</th>\n",
       "      <th>solar_potential_usage</th>\n",
       "      <th>solar_potential_usage_last_change</th>\n",
       "      <th>renewable_heating_share</th>\n",
       "      <th>renewable_heating_share_coverage</th>\n",
       "      <th>renewable_heating_share_last_change</th>\n",
       "    </tr>\n",
       "  </thead>\n",
       "  <tbody>\n",
       "    <tr>\n",
       "      <th>0</th>\n",
       "      <td>1</td>\n",
       "      <td>Aeugst am Albis</td>\n",
       "      <td>ZH</td>\n",
       "      <td>2021-03-31</td>\n",
       "      <td>0.02657</td>\n",
       "      <td>2021-01-31</td>\n",
       "      <td>0.067675</td>\n",
       "      <td>2020-10-13</td>\n",
       "      <td>0.612903</td>\n",
       "      <td>0.992771</td>\n",
       "      <td>2019-06-13</td>\n",
       "    </tr>\n",
       "  </tbody>\n",
       "</table>\n",
       "</div>"
      ],
      "text/plain": [
       "   bfs_nr     municipality canton energyreporter_date  electric_car_share  \\\n",
       "0       1  Aeugst am Albis     ZH          2021-03-31             0.02657   \n",
       "\n",
       "  electric_car_share_last_change  solar_potential_usage  \\\n",
       "0                     2021-01-31               0.067675   \n",
       "\n",
       "  solar_potential_usage_last_change  renewable_heating_share  \\\n",
       "0                        2020-10-13                 0.612903   \n",
       "\n",
       "   renewable_heating_share_coverage renewable_heating_share_last_change  \n",
       "0                          0.992771                          2019-06-13  "
      ]
     },
     "metadata": {},
     "output_type": "display_data"
    },
    {
     "name": "stdout",
     "output_type": "stream",
     "text": [
      "df_nationality:\n"
     ]
    },
    {
     "data": {
      "text/html": [
       "<div>\n",
       "<style scoped>\n",
       "    .dataframe tbody tr th:only-of-type {\n",
       "        vertical-align: middle;\n",
       "    }\n",
       "\n",
       "    .dataframe tbody tr th {\n",
       "        vertical-align: top;\n",
       "    }\n",
       "\n",
       "    .dataframe thead th {\n",
       "        text-align: right;\n",
       "    }\n",
       "</style>\n",
       "<table border=\"1\" class=\"dataframe\">\n",
       "  <thead>\n",
       "    <tr style=\"text-align: right;\">\n",
       "      <th></th>\n",
       "      <th>country</th>\n",
       "      <th>energyreporter_date</th>\n",
       "      <th>electric_car_share</th>\n",
       "      <th>electric_car_share_last_change</th>\n",
       "      <th>solar_potential_usage</th>\n",
       "      <th>solar_potential_usage_last_change</th>\n",
       "      <th>renewable_heating_share</th>\n",
       "      <th>renewable_heating_share_coverage</th>\n",
       "      <th>renewable_heating_share_last_change</th>\n",
       "    </tr>\n",
       "  </thead>\n",
       "  <tbody>\n",
       "    <tr>\n",
       "      <th>0</th>\n",
       "      <td>Schweiz/Suisse/Svizzera</td>\n",
       "      <td>2021-03-31</td>\n",
       "      <td>0.009759</td>\n",
       "      <td>2021-02-28</td>\n",
       "      <td>0.042506</td>\n",
       "      <td>2020-12-16</td>\n",
       "      <td>0.308651</td>\n",
       "      <td>0.934099</td>\n",
       "      <td>2021-03-19</td>\n",
       "    </tr>\n",
       "  </tbody>\n",
       "</table>\n",
       "</div>"
      ],
      "text/plain": [
       "                   country energyreporter_date  electric_car_share  \\\n",
       "0  Schweiz/Suisse/Svizzera          2021-03-31            0.009759   \n",
       "\n",
       "  electric_car_share_last_change  solar_potential_usage  \\\n",
       "0                     2021-02-28               0.042506   \n",
       "\n",
       "  solar_potential_usage_last_change  renewable_heating_share  \\\n",
       "0                        2020-12-16                 0.308651   \n",
       "\n",
       "   renewable_heating_share_coverage renewable_heating_share_last_change  \n",
       "0                          0.934099                          2021-03-19  "
      ]
     },
     "metadata": {},
     "output_type": "display_data"
    }
   ],
   "source": [
    "df_canton = pd.read_csv(ENERGY_REPORTER_HISTORY_CANTON_PATH)\n",
    "df_municipality = pd.read_csv(ENERGY_REPORTER_HISTORY_MUNICIPALITY_PATH)\n",
    "df_nationality = pd.read_csv(ENERGY_REPORTER_HISTORY_NATIONALITY_PATH)\n",
    "\n",
    "print('df_canton:')\n",
    "display(df_canton.head(1))\n",
    "print('df_municipality:')\n",
    "display(df_municipality.head(1))\n",
    "print('df_nationality:')\n",
    "display(df_nationality.head(1))"
   ]
  },
  {
   "cell_type": "markdown",
   "metadata": {},
   "source": [
    "## Basic statistics and insights of data"
   ]
  },
  {
   "cell_type": "markdown",
   "metadata": {},
   "source": [
    "First let's provide some helper functions"
   ]
  },
  {
   "cell_type": "code",
   "execution_count": 3,
   "metadata": {},
   "outputs": [],
   "source": [
    "def plot_distributions(df,features):\n",
    "    plt.rcParams[\"figure.figsize\"] = (17,6)\n",
    "    fig, axs = plt.subplots(1, 3)\n",
    "    for i,feature in enumerate(features):\n",
    "        axs[i].hist(df[feature],bins = 50)\n",
    "        axs[i].set_title('Distribution of ' + feature)\n",
    "        axs[i].set_xlabel(feature)\n",
    "        axs[i].set_ylabel('count')\n",
    "        \n",
    "    plt.show()\n",
    "    plt.rcParams[\"figure.figsize\"] = plt.rcParamsDefault[\"figure.figsize\"]"
   ]
  },
  {
   "cell_type": "markdown",
   "metadata": {},
   "source": [
    "First let's provide the basic statistics of our data."
   ]
  },
  {
   "cell_type": "markdown",
   "metadata": {},
   "source": [
    "### `df_canton` basic statistics"
   ]
  },
  {
   "cell_type": "code",
   "execution_count": 4,
   "metadata": {},
   "outputs": [
    {
     "data": {
      "text/html": [
       "<div>\n",
       "<style scoped>\n",
       "    .dataframe tbody tr th:only-of-type {\n",
       "        vertical-align: middle;\n",
       "    }\n",
       "\n",
       "    .dataframe tbody tr th {\n",
       "        vertical-align: top;\n",
       "    }\n",
       "\n",
       "    .dataframe thead th {\n",
       "        text-align: right;\n",
       "    }\n",
       "</style>\n",
       "<table border=\"1\" class=\"dataframe\">\n",
       "  <thead>\n",
       "    <tr style=\"text-align: right;\">\n",
       "      <th></th>\n",
       "      <th>electric_car_share</th>\n",
       "      <th>solar_potential_usage</th>\n",
       "      <th>renewable_heating_share</th>\n",
       "    </tr>\n",
       "  </thead>\n",
       "  <tbody>\n",
       "    <tr>\n",
       "      <th>count</th>\n",
       "      <td>338.000000</td>\n",
       "      <td>338.000000</td>\n",
       "      <td>338.000000</td>\n",
       "    </tr>\n",
       "    <tr>\n",
       "      <th>mean</th>\n",
       "      <td>0.013417</td>\n",
       "      <td>0.051807</td>\n",
       "      <td>0.344861</td>\n",
       "    </tr>\n",
       "    <tr>\n",
       "      <th>std</th>\n",
       "      <td>0.004304</td>\n",
       "      <td>0.013983</td>\n",
       "      <td>0.102019</td>\n",
       "    </tr>\n",
       "    <tr>\n",
       "      <th>min</th>\n",
       "      <td>0.005665</td>\n",
       "      <td>0.021381</td>\n",
       "      <td>0.100473</td>\n",
       "    </tr>\n",
       "    <tr>\n",
       "      <th>25%</th>\n",
       "      <td>0.010837</td>\n",
       "      <td>0.041232</td>\n",
       "      <td>0.290011</td>\n",
       "    </tr>\n",
       "    <tr>\n",
       "      <th>50%</th>\n",
       "      <td>0.012814</td>\n",
       "      <td>0.050669</td>\n",
       "      <td>0.330031</td>\n",
       "    </tr>\n",
       "    <tr>\n",
       "      <th>75%</th>\n",
       "      <td>0.015056</td>\n",
       "      <td>0.059562</td>\n",
       "      <td>0.405243</td>\n",
       "    </tr>\n",
       "    <tr>\n",
       "      <th>max</th>\n",
       "      <td>0.035403</td>\n",
       "      <td>0.087705</td>\n",
       "      <td>0.549165</td>\n",
       "    </tr>\n",
       "  </tbody>\n",
       "</table>\n",
       "</div>"
      ],
      "text/plain": [
       "       electric_car_share  solar_potential_usage  renewable_heating_share\n",
       "count          338.000000             338.000000               338.000000\n",
       "mean             0.013417               0.051807                 0.344861\n",
       "std              0.004304               0.013983                 0.102019\n",
       "min              0.005665               0.021381                 0.100473\n",
       "25%              0.010837               0.041232                 0.290011\n",
       "50%              0.012814               0.050669                 0.330031\n",
       "75%              0.015056               0.059562                 0.405243\n",
       "max              0.035403               0.087705                 0.549165"
      ]
     },
     "execution_count": 4,
     "metadata": {},
     "output_type": "execute_result"
    }
   ],
   "source": [
    "df_canton.drop(columns = 'renewable_heating_share_coverage').describe()"
   ]
  },
  {
   "cell_type": "code",
   "execution_count": 5,
   "metadata": {},
   "outputs": [],
   "source": [
    "features = ['electric_car_share','solar_potential_usage','renewable_heating_share']\n"
   ]
  },
  {
   "cell_type": "markdown",
   "metadata": {},
   "source": [
    "As we can see the data seems very clean: all 3 indicator are shares so values should range between 0 and 1 and they do. "
   ]
  },
  {
   "cell_type": "markdown",
   "metadata": {},
   "source": [
    "### `df_municipality` basic statistics"
   ]
  },
  {
   "cell_type": "code",
   "execution_count": 6,
   "metadata": {},
   "outputs": [
    {
     "data": {
      "text/html": [
       "<div>\n",
       "<style scoped>\n",
       "    .dataframe tbody tr th:only-of-type {\n",
       "        vertical-align: middle;\n",
       "    }\n",
       "\n",
       "    .dataframe tbody tr th {\n",
       "        vertical-align: top;\n",
       "    }\n",
       "\n",
       "    .dataframe thead th {\n",
       "        text-align: right;\n",
       "    }\n",
       "</style>\n",
       "<table border=\"1\" class=\"dataframe\">\n",
       "  <thead>\n",
       "    <tr style=\"text-align: right;\">\n",
       "      <th></th>\n",
       "      <th>electric_car_share</th>\n",
       "      <th>solar_potential_usage</th>\n",
       "      <th>renewable_heating_share</th>\n",
       "    </tr>\n",
       "  </thead>\n",
       "  <tbody>\n",
       "    <tr>\n",
       "      <th>count</th>\n",
       "      <td>28110.000000</td>\n",
       "      <td>28110.000000</td>\n",
       "      <td>28110.000000</td>\n",
       "    </tr>\n",
       "    <tr>\n",
       "      <th>mean</th>\n",
       "      <td>0.013291</td>\n",
       "      <td>0.050500</td>\n",
       "      <td>0.370185</td>\n",
       "    </tr>\n",
       "    <tr>\n",
       "      <th>std</th>\n",
       "      <td>0.008106</td>\n",
       "      <td>0.037145</td>\n",
       "      <td>0.161631</td>\n",
       "    </tr>\n",
       "    <tr>\n",
       "      <th>min</th>\n",
       "      <td>0.000000</td>\n",
       "      <td>0.000000</td>\n",
       "      <td>0.024606</td>\n",
       "    </tr>\n",
       "    <tr>\n",
       "      <th>25%</th>\n",
       "      <td>0.008197</td>\n",
       "      <td>0.028344</td>\n",
       "      <td>0.246654</td>\n",
       "    </tr>\n",
       "    <tr>\n",
       "      <th>50%</th>\n",
       "      <td>0.012165</td>\n",
       "      <td>0.043247</td>\n",
       "      <td>0.366748</td>\n",
       "    </tr>\n",
       "    <tr>\n",
       "      <th>75%</th>\n",
       "      <td>0.017167</td>\n",
       "      <td>0.064151</td>\n",
       "      <td>0.475167</td>\n",
       "    </tr>\n",
       "    <tr>\n",
       "      <th>max</th>\n",
       "      <td>0.097674</td>\n",
       "      <td>0.689336</td>\n",
       "      <td>0.933333</td>\n",
       "    </tr>\n",
       "  </tbody>\n",
       "</table>\n",
       "</div>"
      ],
      "text/plain": [
       "       electric_car_share  solar_potential_usage  renewable_heating_share\n",
       "count        28110.000000           28110.000000             28110.000000\n",
       "mean             0.013291               0.050500                 0.370185\n",
       "std              0.008106               0.037145                 0.161631\n",
       "min              0.000000               0.000000                 0.024606\n",
       "25%              0.008197               0.028344                 0.246654\n",
       "50%              0.012165               0.043247                 0.366748\n",
       "75%              0.017167               0.064151                 0.475167\n",
       "max              0.097674               0.689336                 0.933333"
      ]
     },
     "execution_count": 6,
     "metadata": {},
     "output_type": "execute_result"
    }
   ],
   "source": [
    "df_municipality.drop(columns = ['renewable_heating_share_coverage','bfs_nr']).describe()"
   ]
  },
  {
   "cell_type": "markdown",
   "metadata": {},
   "source": [
    "As we can see the data seems very clean: all 3 indicator are shares so values should range between 0 and 1 and they do. "
   ]
  },
  {
   "cell_type": "markdown",
   "metadata": {},
   "source": [
    "### `df_nationality` basic statistics"
   ]
  },
  {
   "cell_type": "code",
   "execution_count": 7,
   "metadata": {},
   "outputs": [
    {
     "data": {
      "text/html": [
       "<div>\n",
       "<style scoped>\n",
       "    .dataframe tbody tr th:only-of-type {\n",
       "        vertical-align: middle;\n",
       "    }\n",
       "\n",
       "    .dataframe tbody tr th {\n",
       "        vertical-align: top;\n",
       "    }\n",
       "\n",
       "    .dataframe thead th {\n",
       "        text-align: right;\n",
       "    }\n",
       "</style>\n",
       "<table border=\"1\" class=\"dataframe\">\n",
       "  <thead>\n",
       "    <tr style=\"text-align: right;\">\n",
       "      <th></th>\n",
       "      <th>electric_car_share</th>\n",
       "      <th>solar_potential_usage</th>\n",
       "      <th>renewable_heating_share</th>\n",
       "      <th>renewable_heating_share_coverage</th>\n",
       "    </tr>\n",
       "  </thead>\n",
       "  <tbody>\n",
       "    <tr>\n",
       "      <th>count</th>\n",
       "      <td>13.000000</td>\n",
       "      <td>13.000000</td>\n",
       "      <td>13.000000</td>\n",
       "      <td>13.000000</td>\n",
       "    </tr>\n",
       "    <tr>\n",
       "      <th>mean</th>\n",
       "      <td>0.014157</td>\n",
       "      <td>0.050598</td>\n",
       "      <td>0.314318</td>\n",
       "      <td>0.926952</td>\n",
       "    </tr>\n",
       "    <tr>\n",
       "      <th>std</th>\n",
       "      <td>0.002467</td>\n",
       "      <td>0.004217</td>\n",
       "      <td>0.004802</td>\n",
       "      <td>0.022958</td>\n",
       "    </tr>\n",
       "    <tr>\n",
       "      <th>min</th>\n",
       "      <td>0.009759</td>\n",
       "      <td>0.042506</td>\n",
       "      <td>0.308651</td>\n",
       "      <td>0.902883</td>\n",
       "    </tr>\n",
       "    <tr>\n",
       "      <th>25%</th>\n",
       "      <td>0.012357</td>\n",
       "      <td>0.049528</td>\n",
       "      <td>0.310601</td>\n",
       "      <td>0.918467</td>\n",
       "    </tr>\n",
       "    <tr>\n",
       "      <th>50%</th>\n",
       "      <td>0.013854</td>\n",
       "      <td>0.051056</td>\n",
       "      <td>0.313651</td>\n",
       "      <td>0.919524</td>\n",
       "    </tr>\n",
       "    <tr>\n",
       "      <th>75%</th>\n",
       "      <td>0.015900</td>\n",
       "      <td>0.053285</td>\n",
       "      <td>0.316616</td>\n",
       "      <td>0.930176</td>\n",
       "    </tr>\n",
       "    <tr>\n",
       "      <th>max</th>\n",
       "      <td>0.017949</td>\n",
       "      <td>0.055920</td>\n",
       "      <td>0.326350</td>\n",
       "      <td>0.997887</td>\n",
       "    </tr>\n",
       "  </tbody>\n",
       "</table>\n",
       "</div>"
      ],
      "text/plain": [
       "       electric_car_share  solar_potential_usage  renewable_heating_share  \\\n",
       "count           13.000000              13.000000                13.000000   \n",
       "mean             0.014157               0.050598                 0.314318   \n",
       "std              0.002467               0.004217                 0.004802   \n",
       "min              0.009759               0.042506                 0.308651   \n",
       "25%              0.012357               0.049528                 0.310601   \n",
       "50%              0.013854               0.051056                 0.313651   \n",
       "75%              0.015900               0.053285                 0.316616   \n",
       "max              0.017949               0.055920                 0.326350   \n",
       "\n",
       "       renewable_heating_share_coverage  \n",
       "count                         13.000000  \n",
       "mean                           0.926952  \n",
       "std                            0.022958  \n",
       "min                            0.902883  \n",
       "25%                            0.918467  \n",
       "50%                            0.919524  \n",
       "75%                            0.930176  \n",
       "max                            0.997887  "
      ]
     },
     "execution_count": 7,
     "metadata": {},
     "output_type": "execute_result"
    }
   ],
   "source": [
    "df_nationality.describe()"
   ]
  },
  {
   "cell_type": "markdown",
   "metadata": {},
   "source": [
    "As we can see the data seems very clean: all 3 indicator are shares so values should range between 0 and 1 and they do. "
   ]
  },
  {
   "cell_type": "markdown",
   "metadata": {},
   "source": [
    "### Insights of data through time series"
   ]
  },
  {
   "cell_type": "markdown",
   "metadata": {},
   "source": [
    "One of the interesting things of our data is that we have a time series for every canton and municipality and for switzerland as a whole. So let's check it out:"
   ]
  },
  {
   "cell_type": "markdown",
   "metadata": {},
   "source": [
    "First let's define a helper"
   ]
  },
  {
   "cell_type": "code",
   "execution_count": 8,
   "metadata": {},
   "outputs": [],
   "source": [
    "def plot_time_series(df, features, groupby_feature, sample_data = True):\n",
    "    df_values = df.sort_values('energyreporter_date').groupby(groupby_feature)[features].agg(list)\n",
    "    df_dates =  df.sort_values('energyreporter_date').groupby(groupby_feature)['energyreporter_date'].apply(list)\n",
    "    plt.rcParams[\"figure.figsize\"] = (10,7)\n",
    "    fig, axs = plt.subplots(len(features),1)\n",
    "    if sample_data:\n",
    "        df_values = df_values.sample(5)\n",
    "    \n",
    "    for index in df_values.index:\n",
    "        for i,feature in enumerate(features):\n",
    "            axs[i].plot(df_dates[index],df_values.loc[index][feature], marker='x', label = index)\n",
    "    for i,feature in enumerate(features):\n",
    "        axs[i].set_title(feature)\n",
    "        axs[i].set_xlabel('date')\n",
    "        axs[i].set_ylabel(feature)\n",
    "        axs[i].xaxis.set_major_locator(ticker.MultipleLocator(2))\n",
    "        for tick in axs[i].xaxis.get_major_ticks():\n",
    "            tick.label.set_fontsize(10) \n",
    "        axs[i].legend()\n",
    "\n",
    "    fig.tight_layout()\n",
    "\n",
    "    \n",
    "    plt.show()\n",
    "    plt.rcParams[\"figure.figsize\"] = plt.rcParamsDefault[\"figure.figsize\"]"
   ]
  },
  {
   "cell_type": "code",
   "execution_count": 9,
   "metadata": {},
   "outputs": [
    {
     "data": {
      "image/png": "[encoded data removed]",
      "text/plain": [
       "<Figure size 720x504 with 3 Axes>"
      ]
     },
     "metadata": {
      "needs_background": "light"
     },
     "output_type": "display_data"
    }
   ],
   "source": [
    "plot_time_series(df_canton, features , 'canton', sample_data = True)"
   ]
  },
  {
   "cell_type": "code",
   "execution_count": 10,
   "metadata": {},
   "outputs": [
    {
     "data": {
      "image/png": "[encoded data removed]",
      "text/plain": [
       "<Figure size 720x504 with 3 Axes>"
      ]
     },
     "metadata": {
      "needs_background": "light"
     },
     "output_type": "display_data"
    }
   ],
   "source": [
    "plot_time_series(df_municipality, features , 'municipality', sample_data = True)"
   ]
  },
  {
   "cell_type": "code",
   "execution_count": 11,
   "metadata": {},
   "outputs": [
    {
     "data": {
      "image/png": "[encoded data removed]",
      "text/plain": [
       "<Figure size 720x504 with 3 Axes>"
      ]
     },
     "metadata": {
      "needs_background": "light"
     },
     "output_type": "display_data"
    }
   ],
   "source": [
    "plot_time_series(df_nationality, features , 'country' , sample_data = False)"
   ]
  },
  {
   "cell_type": "code",
   "execution_count": 13,
   "metadata": {},
   "outputs": [],
   "source": [
    "import plotly.express as px\n",
    "import matplotlib.pyplot as plt\n",
    "\n",
    "import chart_studio\n",
    "\n",
    "import chart_studio.plotly as py\n",
    "\n",
    "import chart_studio.tools as tls\n",
    "def send_figure_to_internet(fig,filename):\n",
    "    \"\"\"function to save plotly express images and put them on website\"\"\"\n",
    "    username = 'ogim'\n",
    "    api_key = 'z9ZRECEZuhRpmGQjGcMX' # your api key - go to profile > settings > regenerate key\n",
    "    chart_studio.tools.set_credentials_file(username=username, api_key=api_key)\n",
    "\n",
    "\n",
    "    url = py.plot(fig, filename = filename, auto_open=True)\n",
    "    print(url)\n",
    "    print('link:')\n",
    "    print(tls.get_embed(url)) #change to your url"
   ]
  },
  {
   "cell_type": "code",
   "execution_count": 15,
   "metadata": {},
   "outputs": [
    {
     "data": {
      "application/vnd.plotly.v1+json": {
       "config": {
        "plotlyServerURL": "https://plotly.com"
       },
       "data": [
        {
         "hovertemplate": "canton=AG<br>energyreporter_date=%{x}<br>electric_car_share=%{y}<extra></extra>",
         "legendgroup": "AG",
         "line": {
          "color": "#636efa",
          "dash": "solid"
         },
         "marker": {
          "symbol": "circle"
         },
         "mode": "lines",
         "name": "AG",
         "orientation": "v",
         "showlegend": true,
         "type": "scatter",
         "x": [
          "2021-03-31",
          "2021-04-30",
          "2021-05-31",
          "2021-06-30",
          "2021-07-31",
          "2021-08-31",
          "2021-09-30",
          "2021-10-31",
          "2021-11-30",
          "2021-12-31",
          "2022-01-31",
          "2022-02-28",
          "2022-03-31"
         ],
         "xaxis": "x",
         "y": [
          0.009552,
          0.01115,
          0.01145,
          0.011895,
          0.012569,
          0.012909,
          0.013404,
          0.014186,
          0.014676,
          0.015432,
          0.016351,
          0.016812,
          0.01726
         ],
         "yaxis": "y"
        },
        {
         "hovertemplate": "canton=AI<br>energyreporter_date=%{x}<br>electric_car_share=%{y}<extra></extra>",
         "legendgroup": "AI",
         "line": {
          "color": "#EF553B",
          "dash": "solid"
         },
         "marker": {
          "symbol": "circle"
         },
         "mode": "lines",
         "name": "AI",
         "orientation": "v",
         "showlegend": true,
         "type": "scatter",
         "x": [
          "2021-03-31",
          "2021-04-30",
          "2021-05-31",
          "2021-06-30",
          "2021-07-31",
          "2021-08-31",
          "2021-09-30",
          "2021-10-31",
          "2021-11-30",
          "2021-12-31",
          "2022-01-31",
          "2022-02-28",
          "2022-03-31"
         ],
         "xaxis": "x",
         "y": [
          0.009226,
          0.011805,
          0.011816,
          0.012443,
          0.012847,
          0.013006,
          0.013181,
          0.013954,
          0.014424,
          0.015786,
          0.016101,
          0.01665,
          0.017367
         ],
         "yaxis": "y"
        },
        {
         "hovertemplate": "canton=AR<br>energyreporter_date=%{x}<br>electric_car_share=%{y}<extra></extra>",
         "legendgroup": "AR",
         "line": {
          "color": "#00cc96",
          "dash": "solid"
         },
         "marker": {
          "symbol": "circle"
         },
         "mode": "lines",
         "name": "AR",
         "orientation": "v",
         "showlegend": true,
         "type": "scatter",
         "x": [
          "2021-03-31",
          "2021-04-30",
          "2021-05-31",
          "2021-06-30",
          "2021-07-31",
          "2021-08-31",
          "2021-09-30",
          "2021-10-31",
          "2021-11-30",
          "2021-12-31",
          "2022-01-31",
          "2022-02-28",
          "2022-03-31"
         ],
         "xaxis": "x",
         "y": [
          0.009047,
          0.010304,
          0.010552,
          0.01098,
          0.011427,
          0.011678,
          0.012245,
          0.012882,
          0.013188,
          0.013701,
          0.014142,
          0.014364,
          0.014704
         ],
         "yaxis": "y"
        },
        {
         "hovertemplate": "canton=BE<br>energyreporter_date=%{x}<br>electric_car_share=%{y}<extra></extra>",
         "legendgroup": "BE",
         "line": {
          "color": "#ab63fa",
          "dash": "solid"
         },
         "marker": {
          "symbol": "circle"
         },
         "mode": "lines",
         "name": "BE",
         "orientation": "v",
         "showlegend": true,
         "type": "scatter",
         "x": [
          "2021-03-31",
          "2021-04-30",
          "2021-05-31",
          "2021-06-30",
          "2021-07-31",
          "2021-08-31",
          "2021-09-30",
          "2021-10-31",
          "2021-11-30",
          "2021-12-31",
          "2022-01-31",
          "2022-02-28",
          "2022-03-31"
         ],
         "xaxis": "x",
         "y": [
          0.007967,
          0.00942,
          0.009747,
          0.010127,
          0.010735,
          0.011191,
          0.011616,
          0.012169,
          0.012554,
          0.013201,
          0.014128,
          0.014566,
          0.015084
         ],
         "yaxis": "y"
        },
        {
         "hovertemplate": "canton=BL<br>energyreporter_date=%{x}<br>electric_car_share=%{y}<extra></extra>",
         "legendgroup": "BL",
         "line": {
          "color": "#FFA15A",
          "dash": "solid"
         },
         "marker": {
          "symbol": "circle"
         },
         "mode": "lines",
         "name": "BL",
         "orientation": "v",
         "showlegend": true,
         "type": "scatter",
         "x": [
          "2021-03-31",
          "2021-04-30",
          "2021-05-31",
          "2021-06-30",
          "2021-07-31",
          "2021-08-31",
          "2021-09-30",
          "2021-10-31",
          "2021-11-30",
          "2021-12-31",
          "2022-01-31",
          "2022-02-28",
          "2022-03-31"
         ],
         "xaxis": "x",
         "y": [
          0.010056,
          0.011731,
          0.012088,
          0.012554,
          0.013156,
          0.013468,
          0.013989,
          0.014763,
          0.015133,
          0.015843,
          0.016847,
          0.017369,
          0.017913
         ],
         "yaxis": "y"
        },
        {
         "hovertemplate": "canton=BS<br>energyreporter_date=%{x}<br>electric_car_share=%{y}<extra></extra>",
         "legendgroup": "BS",
         "line": {
          "color": "#19d3f3",
          "dash": "solid"
         },
         "marker": {
          "symbol": "circle"
         },
         "mode": "lines",
         "name": "BS",
         "orientation": "v",
         "showlegend": true,
         "type": "scatter",
         "x": [
          "2021-03-31",
          "2021-04-30",
          "2021-05-31",
          "2021-06-30",
          "2021-07-31",
          "2021-08-31",
          "2021-09-30",
          "2021-10-31",
          "2021-11-30",
          "2021-12-31",
          "2022-01-31",
          "2022-02-28",
          "2022-03-31"
         ],
         "xaxis": "x",
         "y": [
          0.010025,
          0.011864,
          0.012096,
          0.012293,
          0.013039,
          0.013406,
          0.013668,
          0.014415,
          0.014777,
          0.015566,
          0.016433,
          0.016848,
          0.017055
         ],
         "yaxis": "y"
        },
        {
         "hovertemplate": "canton=FR<br>energyreporter_date=%{x}<br>electric_car_share=%{y}<extra></extra>",
         "legendgroup": "FR",
         "line": {
          "color": "#FF6692",
          "dash": "solid"
         },
         "marker": {
          "symbol": "circle"
         },
         "mode": "lines",
         "name": "FR",
         "orientation": "v",
         "showlegend": true,
         "type": "scatter",
         "x": [
          "2021-03-31",
          "2021-04-30",
          "2021-05-31",
          "2021-06-30",
          "2021-07-31",
          "2021-08-31",
          "2021-09-30",
          "2021-10-31",
          "2021-11-30",
          "2021-12-31",
          "2022-01-31",
          "2022-02-28",
          "2022-03-31"
         ],
         "xaxis": "x",
         "y": [
          0.007784,
          0.009531,
          0.009802,
          0.01022,
          0.010967,
          0.011138,
          0.01165,
          0.012567,
          0.013131,
          0.013955,
          0.01506,
          0.015401,
          0.016042
         ],
         "yaxis": "y"
        },
        {
         "hovertemplate": "canton=GE<br>energyreporter_date=%{x}<br>electric_car_share=%{y}<extra></extra>",
         "legendgroup": "GE",
         "line": {
          "color": "#B6E880",
          "dash": "solid"
         },
         "marker": {
          "symbol": "circle"
         },
         "mode": "lines",
         "name": "GE",
         "orientation": "v",
         "showlegend": true,
         "type": "scatter",
         "x": [
          "2021-03-31",
          "2021-04-30",
          "2021-05-31",
          "2021-06-30",
          "2021-07-31",
          "2021-08-31",
          "2021-09-30",
          "2021-10-31",
          "2021-11-30",
          "2021-12-31",
          "2022-01-31",
          "2022-02-28",
          "2022-03-31"
         ],
         "xaxis": "x",
         "y": [
          0.008151,
          0.010135,
          0.010334,
          0.010558,
          0.011138,
          0.011402,
          0.011766,
          0.012478,
          0.012781,
          0.01339,
          0.014088,
          0.014328,
          0.0147
         ],
         "yaxis": "y"
        },
        {
         "hovertemplate": "canton=GL<br>energyreporter_date=%{x}<br>electric_car_share=%{y}<extra></extra>",
         "legendgroup": "GL",
         "line": {
          "color": "#FF97FF",
          "dash": "solid"
         },
         "marker": {
          "symbol": "circle"
         },
         "mode": "lines",
         "name": "GL",
         "orientation": "v",
         "showlegend": true,
         "type": "scatter",
         "x": [
          "2021-03-31",
          "2021-04-30",
          "2021-05-31",
          "2021-06-30",
          "2021-07-31",
          "2021-08-31",
          "2021-09-30",
          "2021-10-31",
          "2021-11-30",
          "2021-12-31",
          "2022-01-31",
          "2022-02-28",
          "2022-03-31"
         ],
         "xaxis": "x",
         "y": [
          0.00601,
          0.008237,
          0.008592,
          0.008891,
          0.009712,
          0.009867,
          0.010123,
          0.010799,
          0.011123,
          0.011512,
          0.01207,
          0.012776,
          0.013126
         ],
         "yaxis": "y"
        },
        {
         "hovertemplate": "canton=GR<br>energyreporter_date=%{x}<br>electric_car_share=%{y}<extra></extra>",
         "legendgroup": "GR",
         "line": {
          "color": "#FECB52",
          "dash": "solid"
         },
         "marker": {
          "symbol": "circle"
         },
         "mode": "lines",
         "name": "GR",
         "orientation": "v",
         "showlegend": true,
         "type": "scatter",
         "x": [
          "2021-03-31",
          "2021-04-30",
          "2021-05-31",
          "2021-06-30",
          "2021-07-31",
          "2021-08-31",
          "2021-09-30",
          "2021-10-31",
          "2021-11-30",
          "2021-12-31",
          "2022-01-31",
          "2022-02-28",
          "2022-03-31"
         ],
         "xaxis": "x",
         "y": [
          0.007805,
          0.009458,
          0.009719,
          0.009957,
          0.010449,
          0.010708,
          0.011121,
          0.011632,
          0.012081,
          0.012593,
          0.013786,
          0.014168,
          0.014486
         ],
         "yaxis": "y"
        },
        {
         "hovertemplate": "canton=JU<br>energyreporter_date=%{x}<br>electric_car_share=%{y}<extra></extra>",
         "legendgroup": "JU",
         "line": {
          "color": "#636efa",
          "dash": "solid"
         },
         "marker": {
          "symbol": "circle"
         },
         "mode": "lines",
         "name": "JU",
         "orientation": "v",
         "showlegend": true,
         "type": "scatter",
         "x": [
          "2021-03-31",
          "2021-04-30",
          "2021-05-31",
          "2021-06-30",
          "2021-07-31",
          "2021-08-31",
          "2021-09-30",
          "2021-10-31",
          "2021-11-30",
          "2021-12-31",
          "2022-01-31",
          "2022-02-28",
          "2022-03-31"
         ],
         "xaxis": "x",
         "y": [
          0.006431,
          0.007484,
          0.007918,
          0.008297,
          0.009132,
          0.009566,
          0.010033,
          0.010726,
          0.011194,
          0.011763,
          0.012508,
          0.013012,
          0.013308
         ],
         "yaxis": "y"
        },
        {
         "hovertemplate": "canton=LU<br>energyreporter_date=%{x}<br>electric_car_share=%{y}<extra></extra>",
         "legendgroup": "LU",
         "line": {
          "color": "#EF553B",
          "dash": "solid"
         },
         "marker": {
          "symbol": "circle"
         },
         "mode": "lines",
         "name": "LU",
         "orientation": "v",
         "showlegend": true,
         "type": "scatter",
         "x": [
          "2021-03-31",
          "2021-04-30",
          "2021-05-31",
          "2021-06-30",
          "2021-07-31",
          "2021-08-31",
          "2021-09-30",
          "2021-10-31",
          "2021-11-30",
          "2021-12-31",
          "2022-01-31",
          "2022-02-28",
          "2022-03-31"
         ],
         "xaxis": "x",
         "y": [
          0.009095,
          0.010703,
          0.011125,
          0.011439,
          0.012037,
          0.012418,
          0.012906,
          0.013536,
          0.014003,
          0.014676,
          0.015622,
          0.016046,
          0.016579
         ],
         "yaxis": "y"
        },
        {
         "hovertemplate": "canton=NE<br>energyreporter_date=%{x}<br>electric_car_share=%{y}<extra></extra>",
         "legendgroup": "NE",
         "line": {
          "color": "#00cc96",
          "dash": "solid"
         },
         "marker": {
          "symbol": "circle"
         },
         "mode": "lines",
         "name": "NE",
         "orientation": "v",
         "showlegend": true,
         "type": "scatter",
         "x": [
          "2021-03-31",
          "2021-04-30",
          "2021-05-31",
          "2021-06-30",
          "2021-07-31",
          "2021-08-31",
          "2021-09-30",
          "2021-10-31",
          "2021-11-30",
          "2021-12-31",
          "2022-01-31",
          "2022-02-28",
          "2022-03-31"
         ],
         "xaxis": "x",
         "y": [
          0.00648,
          0.007581,
          0.007836,
          0.008152,
          0.008704,
          0.00897,
          0.009258,
          0.009783,
          0.010054,
          0.010632,
          0.011362,
          0.01173,
          0.012003
         ],
         "yaxis": "y"
        },
        {
         "hovertemplate": "canton=NW<br>energyreporter_date=%{x}<br>electric_car_share=%{y}<extra></extra>",
         "legendgroup": "NW",
         "line": {
          "color": "#ab63fa",
          "dash": "solid"
         },
         "marker": {
          "symbol": "circle"
         },
         "mode": "lines",
         "name": "NW",
         "orientation": "v",
         "showlegend": true,
         "type": "scatter",
         "x": [
          "2021-03-31",
          "2021-04-30",
          "2021-05-31",
          "2021-06-30",
          "2021-07-31",
          "2021-08-31",
          "2021-09-30",
          "2021-10-31",
          "2021-11-30",
          "2021-12-31",
          "2022-01-31",
          "2022-02-28",
          "2022-03-31"
         ],
         "xaxis": "x",
         "y": [
          0.010712,
          0.01223,
          0.012337,
          0.012726,
          0.013188,
          0.013818,
          0.014431,
          0.015044,
          0.01528,
          0.016008,
          0.017194,
          0.017481,
          0.018116
         ],
         "yaxis": "y"
        },
        {
         "hovertemplate": "canton=OW<br>energyreporter_date=%{x}<br>electric_car_share=%{y}<extra></extra>",
         "legendgroup": "OW",
         "line": {
          "color": "#FFA15A",
          "dash": "solid"
         },
         "marker": {
          "symbol": "circle"
         },
         "mode": "lines",
         "name": "OW",
         "orientation": "v",
         "showlegend": true,
         "type": "scatter",
         "x": [
          "2021-03-31",
          "2021-04-30",
          "2021-05-31",
          "2021-06-30",
          "2021-07-31",
          "2021-08-31",
          "2021-09-30",
          "2021-10-31",
          "2021-11-30",
          "2021-12-31",
          "2022-01-31",
          "2022-02-28",
          "2022-03-31"
         ],
         "xaxis": "x",
         "y": [
          0.009152,
          0.010978,
          0.011405,
          0.011482,
          0.011836,
          0.012108,
          0.012475,
          0.013038,
          0.013169,
          0.013773,
          0.014844,
          0.015191,
          0.015794
         ],
         "yaxis": "y"
        },
        {
         "hovertemplate": "canton=SG<br>energyreporter_date=%{x}<br>electric_car_share=%{y}<extra></extra>",
         "legendgroup": "SG",
         "line": {
          "color": "#19d3f3",
          "dash": "solid"
         },
         "marker": {
          "symbol": "circle"
         },
         "mode": "lines",
         "name": "SG",
         "orientation": "v",
         "showlegend": true,
         "type": "scatter",
         "x": [
          "2021-03-31",
          "2021-04-30",
          "2021-05-31",
          "2021-06-30",
          "2021-07-31",
          "2021-08-31",
          "2021-09-30",
          "2021-10-31",
          "2021-11-30",
          "2021-12-31",
          "2022-01-31",
          "2022-02-28",
          "2022-03-31"
         ],
         "xaxis": "x",
         "y": [
          0.009308,
          0.011613,
          0.011985,
          0.012351,
          0.013005,
          0.013379,
          0.013847,
          0.014545,
          0.015077,
          0.015779,
          0.016883,
          0.017383,
          0.017877
         ],
         "yaxis": "y"
        },
        {
         "hovertemplate": "canton=SH<br>energyreporter_date=%{x}<br>electric_car_share=%{y}<extra></extra>",
         "legendgroup": "SH",
         "line": {
          "color": "#FF6692",
          "dash": "solid"
         },
         "marker": {
          "symbol": "circle"
         },
         "mode": "lines",
         "name": "SH",
         "orientation": "v",
         "showlegend": true,
         "type": "scatter",
         "x": [
          "2021-03-31",
          "2021-04-30",
          "2021-05-31",
          "2021-06-30",
          "2021-07-31",
          "2021-08-31",
          "2021-09-30",
          "2021-10-31",
          "2021-11-30",
          "2021-12-31",
          "2022-01-31",
          "2022-02-28",
          "2022-03-31"
         ],
         "xaxis": "x",
         "y": [
          0.009043,
          0.010811,
          0.011252,
          0.011628,
          0.012224,
          0.012682,
          0.013153,
          0.01372,
          0.014227,
          0.015169,
          0.016294,
          0.016947,
          0.017338
         ],
         "yaxis": "y"
        },
        {
         "hovertemplate": "canton=SO<br>energyreporter_date=%{x}<br>electric_car_share=%{y}<extra></extra>",
         "legendgroup": "SO",
         "line": {
          "color": "#B6E880",
          "dash": "solid"
         },
         "marker": {
          "symbol": "circle"
         },
         "mode": "lines",
         "name": "SO",
         "orientation": "v",
         "showlegend": true,
         "type": "scatter",
         "x": [
          "2021-03-31",
          "2021-04-30",
          "2021-05-31",
          "2021-06-30",
          "2021-07-31",
          "2021-08-31",
          "2021-09-30",
          "2021-10-31",
          "2021-11-30",
          "2021-12-31",
          "2022-01-31",
          "2022-02-28",
          "2022-03-31"
         ],
         "xaxis": "x",
         "y": [
          0.008219,
          0.009643,
          0.009896,
          0.010368,
          0.010917,
          0.011257,
          0.011678,
          0.012256,
          0.012714,
          0.013428,
          0.014332,
          0.01474,
          0.01502
         ],
         "yaxis": "y"
        },
        {
         "hovertemplate": "canton=SZ<br>energyreporter_date=%{x}<br>electric_car_share=%{y}<extra></extra>",
         "legendgroup": "SZ",
         "line": {
          "color": "#FF97FF",
          "dash": "solid"
         },
         "marker": {
          "symbol": "circle"
         },
         "mode": "lines",
         "name": "SZ",
         "orientation": "v",
         "showlegend": true,
         "type": "scatter",
         "x": [
          "2021-03-31",
          "2021-04-30",
          "2021-05-31",
          "2021-06-30",
          "2021-07-31",
          "2021-08-31",
          "2021-09-30",
          "2021-10-31",
          "2021-11-30",
          "2021-12-31",
          "2022-01-31",
          "2022-02-28",
          "2022-03-31"
         ],
         "xaxis": "x",
         "y": [
          0.01148,
          0.013168,
          0.013523,
          0.013746,
          0.014224,
          0.014491,
          0.01482,
          0.015708,
          0.016382,
          0.017258,
          0.018305,
          0.018883,
          0.019364
         ],
         "yaxis": "y"
        },
        {
         "hovertemplate": "canton=TG<br>energyreporter_date=%{x}<br>electric_car_share=%{y}<extra></extra>",
         "legendgroup": "TG",
         "line": {
          "color": "#FECB52",
          "dash": "solid"
         },
         "marker": {
          "symbol": "circle"
         },
         "mode": "lines",
         "name": "TG",
         "orientation": "v",
         "showlegend": true,
         "type": "scatter",
         "x": [
          "2021-03-31",
          "2021-04-30",
          "2021-05-31",
          "2021-06-30",
          "2021-07-31",
          "2021-08-31",
          "2021-09-30",
          "2021-10-31",
          "2021-11-30",
          "2021-12-31",
          "2022-01-31",
          "2022-02-28",
          "2022-03-31"
         ],
         "xaxis": "x",
         "y": [
          0.010228,
          0.012358,
          0.012924,
          0.013353,
          0.014232,
          0.014644,
          0.015139,
          0.016014,
          0.016556,
          0.017353,
          0.018245,
          0.018762,
          0.019228
         ],
         "yaxis": "y"
        },
        {
         "hovertemplate": "canton=TI<br>energyreporter_date=%{x}<br>electric_car_share=%{y}<extra></extra>",
         "legendgroup": "TI",
         "line": {
          "color": "#636efa",
          "dash": "solid"
         },
         "marker": {
          "symbol": "circle"
         },
         "mode": "lines",
         "name": "TI",
         "orientation": "v",
         "showlegend": true,
         "type": "scatter",
         "x": [
          "2021-03-31",
          "2021-04-30",
          "2021-05-31",
          "2021-06-30",
          "2021-07-31",
          "2021-08-31",
          "2021-09-30",
          "2021-10-31",
          "2021-11-30",
          "2021-12-31",
          "2022-01-31",
          "2022-02-28",
          "2022-03-31"
         ],
         "xaxis": "x",
         "y": [
          0.008043,
          0.009499,
          0.009906,
          0.01031,
          0.010987,
          0.011304,
          0.011631,
          0.012408,
          0.012933,
          0.013525,
          0.014536,
          0.014901,
          0.015343
         ],
         "yaxis": "y"
        },
        {
         "hovertemplate": "canton=UR<br>energyreporter_date=%{x}<br>electric_car_share=%{y}<extra></extra>",
         "legendgroup": "UR",
         "line": {
          "color": "#EF553B",
          "dash": "solid"
         },
         "marker": {
          "symbol": "circle"
         },
         "mode": "lines",
         "name": "UR",
         "orientation": "v",
         "showlegend": true,
         "type": "scatter",
         "x": [
          "2021-03-31",
          "2021-04-30",
          "2021-05-31",
          "2021-06-30",
          "2021-07-31",
          "2021-08-31",
          "2021-09-30",
          "2021-10-31",
          "2021-11-30",
          "2021-12-31",
          "2022-01-31",
          "2022-02-28",
          "2022-03-31"
         ],
         "xaxis": "x",
         "y": [
          0.005665,
          0.006402,
          0.006706,
          0.007039,
          0.007596,
          0.007845,
          0.008203,
          0.00902,
          0.009272,
          0.009965,
          0.010998,
          0.011281,
          0.011559
         ],
         "yaxis": "y"
        },
        {
         "hovertemplate": "canton=VD<br>energyreporter_date=%{x}<br>electric_car_share=%{y}<extra></extra>",
         "legendgroup": "VD",
         "line": {
          "color": "#00cc96",
          "dash": "solid"
         },
         "marker": {
          "symbol": "circle"
         },
         "mode": "lines",
         "name": "VD",
         "orientation": "v",
         "showlegend": true,
         "type": "scatter",
         "x": [
          "2021-03-31",
          "2021-04-30",
          "2021-05-31",
          "2021-06-30",
          "2021-07-31",
          "2021-08-31",
          "2021-09-30",
          "2021-10-31",
          "2021-11-30",
          "2021-12-31",
          "2022-01-31",
          "2022-02-28",
          "2022-03-31"
         ],
         "xaxis": "x",
         "y": [
          0.010074,
          0.012055,
          0.012383,
          0.01274,
          0.013538,
          0.013902,
          0.014365,
          0.015309,
          0.015772,
          0.016686,
          0.018013,
          0.018444,
          0.018987
         ],
         "yaxis": "y"
        },
        {
         "hovertemplate": "canton=VS<br>energyreporter_date=%{x}<br>electric_car_share=%{y}<extra></extra>",
         "legendgroup": "VS",
         "line": {
          "color": "#ab63fa",
          "dash": "solid"
         },
         "marker": {
          "symbol": "circle"
         },
         "mode": "lines",
         "name": "VS",
         "orientation": "v",
         "showlegend": true,
         "type": "scatter",
         "x": [
          "2021-03-31",
          "2021-04-30",
          "2021-05-31",
          "2021-06-30",
          "2021-07-31",
          "2021-08-31",
          "2021-09-30",
          "2021-10-31",
          "2021-11-30",
          "2021-12-31",
          "2022-01-31",
          "2022-02-28",
          "2022-03-31"
         ],
         "xaxis": "x",
         "y": [
          0.007136,
          0.008992,
          0.009306,
          0.009656,
          0.010407,
          0.010609,
          0.010971,
          0.011722,
          0.012164,
          0.013006,
          0.01405,
          0.014469,
          0.014981
         ],
         "yaxis": "y"
        },
        {
         "hovertemplate": "canton=ZG<br>energyreporter_date=%{x}<br>electric_car_share=%{y}<extra></extra>",
         "legendgroup": "ZG",
         "line": {
          "color": "#FFA15A",
          "dash": "solid"
         },
         "marker": {
          "symbol": "circle"
         },
         "mode": "lines",
         "name": "ZG",
         "orientation": "v",
         "showlegend": true,
         "type": "scatter",
         "x": [
          "2021-03-31",
          "2021-04-30",
          "2021-05-31",
          "2021-06-30",
          "2021-07-31",
          "2021-08-31",
          "2021-09-30",
          "2021-10-31",
          "2021-11-30",
          "2021-12-31",
          "2022-01-31",
          "2022-02-28",
          "2022-03-31"
         ],
         "xaxis": "x",
         "y": [
          0.019057,
          0.023033,
          0.023919,
          0.024491,
          0.025927,
          0.026459,
          0.02737,
          0.029251,
          0.029926,
          0.031491,
          0.033695,
          0.034642,
          0.035403
         ],
         "yaxis": "y"
        },
        {
         "hovertemplate": "canton=ZH<br>energyreporter_date=%{x}<br>electric_car_share=%{y}<extra></extra>",
         "legendgroup": "ZH",
         "line": {
          "color": "#19d3f3",
          "dash": "solid"
         },
         "marker": {
          "symbol": "circle"
         },
         "mode": "lines",
         "name": "ZH",
         "orientation": "v",
         "showlegend": true,
         "type": "scatter",
         "x": [
          "2021-03-31",
          "2021-04-30",
          "2021-05-31",
          "2021-06-30",
          "2021-07-31",
          "2021-08-31",
          "2021-09-30",
          "2021-10-31",
          "2021-11-30",
          "2021-12-31",
          "2022-01-31",
          "2022-02-28",
          "2022-03-31"
         ],
         "xaxis": "x",
         "y": [
          0.013663,
          0.01598,
          0.016414,
          0.016802,
          0.017532,
          0.017847,
          0.018442,
          0.019371,
          0.020013,
          0.020968,
          0.022341,
          0.022932,
          0.023556
         ],
         "yaxis": "y"
        }
       ],
       "layout": {
        "legend": {
         "title": {
          "text": "canton"
         },
         "tracegroupgap": 0
        },
        "template": {
         "data": {
          "bar": [
           {
            "error_x": {
             "color": "#2a3f5f"
            },
            "error_y": {
             "color": "#2a3f5f"
            },
            "marker": {
             "line": {
              "color": "#E5ECF6",
              "width": 0.5
             },
             "pattern": {
              "fillmode": "overlay",
              "size": 10,
              "solidity": 0.2
             }
            },
            "type": "bar"
           }
          ],
          "barpolar": [
           {
            "marker": {
             "line": {
              "color": "#E5ECF6",
              "width": 0.5
             },
             "pattern": {
              "fillmode": "overlay",
              "size": 10,
              "solidity": 0.2
             }
            },
            "type": "barpolar"
           }
          ],
          "carpet": [
           {
            "aaxis": {
             "endlinecolor": "#2a3f5f",
             "gridcolor": "white",
             "linecolor": "white",
             "minorgridcolor": "white",
             "startlinecolor": "#2a3f5f"
            },
            "baxis": {
             "endlinecolor": "#2a3f5f",
             "gridcolor": "white",
             "linecolor": "white",
             "minorgridcolor": "white",
             "startlinecolor": "#2a3f5f"
            },
            "type": "carpet"
           }
          ],
          "choropleth": [
           {
            "colorbar": {
             "outlinewidth": 0,
             "ticks": ""
            },
            "type": "choropleth"
           }
          ],
          "contour": [
           {
            "colorbar": {
             "outlinewidth": 0,
             "ticks": ""
            },
            "colorscale": [
             [
              0,
              "#0d0887"
             ],
             [
              0.1111111111111111,
              "#46039f"
             ],
             [
              0.2222222222222222,
              "#7201a8"
             ],
             [
              0.3333333333333333,
              "#9c179e"
             ],
             [
              0.4444444444444444,
              "#bd3786"
             ],
             [
              0.5555555555555556,
              "#d8576b"
             ],
             [
              0.6666666666666666,
              "#ed7953"
             ],
             [
              0.7777777777777778,
              "#fb9f3a"
             ],
             [
              0.8888888888888888,
              "#fdca26"
             ],
             [
              1,
              "#f0f921"
             ]
            ],
            "type": "contour"
           }
          ],
          "contourcarpet": [
           {
            "colorbar": {
             "outlinewidth": 0,
             "ticks": ""
            },
            "type": "contourcarpet"
           }
          ],
          "heatmap": [
           {
            "colorbar": {
             "outlinewidth": 0,
             "ticks": ""
            },
            "colorscale": [
             [
              0,
              "#0d0887"
             ],
             [
              0.1111111111111111,
              "#46039f"
             ],
             [
              0.2222222222222222,
              "#7201a8"
             ],
             [
              0.3333333333333333,
              "#9c179e"
             ],
             [
              0.4444444444444444,
              "#bd3786"
             ],
             [
              0.5555555555555556,
              "#d8576b"
             ],
             [
              0.6666666666666666,
              "#ed7953"
             ],
             [
              0.7777777777777778,
              "#fb9f3a"
             ],
             [
              0.8888888888888888,
              "#fdca26"
             ],
             [
              1,
              "#f0f921"
             ]
            ],
            "type": "heatmap"
           }
          ],
          "heatmapgl": [
           {
            "colorbar": {
             "outlinewidth": 0,
             "ticks": ""
            },
            "colorscale": [
             [
              0,
              "#0d0887"
             ],
             [
              0.1111111111111111,
              "#46039f"
             ],
             [
              0.2222222222222222,
              "#7201a8"
             ],
             [
              0.3333333333333333,
              "#9c179e"
             ],
             [
              0.4444444444444444,
              "#bd3786"
             ],
             [
              0.5555555555555556,
              "#d8576b"
             ],
             [
              0.6666666666666666,
              "#ed7953"
             ],
             [
              0.7777777777777778,
              "#fb9f3a"
             ],
             [
              0.8888888888888888,
              "#fdca26"
             ],
             [
              1,
              "#f0f921"
             ]
            ],
            "type": "heatmapgl"
           }
          ],
          "histogram": [
           {
            "marker": {
             "pattern": {
              "fillmode": "overlay",
              "size": 10,
              "solidity": 0.2
             }
            },
            "type": "histogram"
           }
          ],
          "histogram2d": [
           {
            "colorbar": {
             "outlinewidth": 0,
             "ticks": ""
            },
            "colorscale": [
             [
              0,
              "#0d0887"
             ],
             [
              0.1111111111111111,
              "#46039f"
             ],
             [
              0.2222222222222222,
              "#7201a8"
             ],
             [
              0.3333333333333333,
              "#9c179e"
             ],
             [
              0.4444444444444444,
              "#bd3786"
             ],
             [
              0.5555555555555556,
              "#d8576b"
             ],
             [
              0.6666666666666666,
              "#ed7953"
             ],
             [
              0.7777777777777778,
              "#fb9f3a"
             ],
             [
              0.8888888888888888,
              "#fdca26"
             ],
             [
              1,
              "#f0f921"
             ]
            ],
            "type": "histogram2d"
           }
          ],
          "histogram2dcontour": [
           {
            "colorbar": {
             "outlinewidth": 0,
             "ticks": ""
            },
            "colorscale": [
             [
              0,
              "#0d0887"
             ],
             [
              0.1111111111111111,
              "#46039f"
             ],
             [
              0.2222222222222222,
              "#7201a8"
             ],
             [
              0.3333333333333333,
              "#9c179e"
             ],
             [
              0.4444444444444444,
              "#bd3786"
             ],
             [
              0.5555555555555556,
              "#d8576b"
             ],
             [
              0.6666666666666666,
              "#ed7953"
             ],
             [
              0.7777777777777778,
              "#fb9f3a"
             ],
             [
              0.8888888888888888,
              "#fdca26"
             ],
             [
              1,
              "#f0f921"
             ]
            ],
            "type": "histogram2dcontour"
           }
          ],
          "mesh3d": [
           {
            "colorbar": {
             "outlinewidth": 0,
             "ticks": ""
            },
            "type": "mesh3d"
           }
          ],
          "parcoords": [
           {
            "line": {
             "colorbar": {
              "outlinewidth": 0,
              "ticks": ""
             }
            },
            "type": "parcoords"
           }
          ],
          "pie": [
           {
            "automargin": true,
            "type": "pie"
           }
          ],
          "scatter": [
           {
            "marker": {
             "colorbar": {
              "outlinewidth": 0,
              "ticks": ""
             }
            },
            "type": "scatter"
           }
          ],
          "scatter3d": [
           {
            "line": {
             "colorbar": {
              "outlinewidth": 0,
              "ticks": ""
             }
            },
            "marker": {
             "colorbar": {
              "outlinewidth": 0,
              "ticks": ""
             }
            },
            "type": "scatter3d"
           }
          ],
          "scattercarpet": [
           {
            "marker": {
             "colorbar": {
              "outlinewidth": 0,
              "ticks": ""
             }
            },
            "type": "scattercarpet"
           }
          ],
          "scattergeo": [
           {
            "marker": {
             "colorbar": {
              "outlinewidth": 0,
              "ticks": ""
             }
            },
            "type": "scattergeo"
           }
          ],
          "scattergl": [
           {
            "marker": {
             "colorbar": {
              "outlinewidth": 0,
              "ticks": ""
             }
            },
            "type": "scattergl"
           }
          ],
          "scattermapbox": [
           {
            "marker": {
             "colorbar": {
              "outlinewidth": 0,
              "ticks": ""
             }
            },
            "type": "scattermapbox"
           }
          ],
          "scatterpolar": [
           {
            "marker": {
             "colorbar": {
              "outlinewidth": 0,
              "ticks": ""
             }
            },
            "type": "scatterpolar"
           }
          ],
          "scatterpolargl": [
           {
            "marker": {
             "colorbar": {
              "outlinewidth": 0,
              "ticks": ""
             }
            },
            "type": "scatterpolargl"
           }
          ],
          "scatterternary": [
           {
            "marker": {
             "colorbar": {
              "outlinewidth": 0,
              "ticks": ""
             }
            },
            "type": "scatterternary"
           }
          ],
          "surface": [
           {
            "colorbar": {
             "outlinewidth": 0,
             "ticks": ""
            },
            "colorscale": [
             [
              0,
              "#0d0887"
             ],
             [
              0.1111111111111111,
              "#46039f"
             ],
             [
              0.2222222222222222,
              "#7201a8"
             ],
             [
              0.3333333333333333,
              "#9c179e"
             ],
             [
              0.4444444444444444,
              "#bd3786"
             ],
             [
              0.5555555555555556,
              "#d8576b"
             ],
             [
              0.6666666666666666,
              "#ed7953"
             ],
             [
              0.7777777777777778,
              "#fb9f3a"
             ],
             [
              0.8888888888888888,
              "#fdca26"
             ],
             [
              1,
              "#f0f921"
             ]
            ],
            "type": "surface"
           }
          ],
          "table": [
           {
            "cells": {
             "fill": {
              "color": "#EBF0F8"
             },
             "line": {
              "color": "white"
             }
            },
            "header": {
             "fill": {
              "color": "#C8D4E3"
             },
             "line": {
              "color": "white"
             }
            },
            "type": "table"
           }
          ]
         },
         "layout": {
          "annotationdefaults": {
           "arrowcolor": "#2a3f5f",
           "arrowhead": 0,
           "arrowwidth": 1
          },
          "autotypenumbers": "strict",
          "coloraxis": {
           "colorbar": {
            "outlinewidth": 0,
            "ticks": ""
           }
          },
          "colorscale": {
           "diverging": [
            [
             0,
             "#8e0152"
            ],
            [
             0.1,
             "#c51b7d"
            ],
            [
             0.2,
             "#de77ae"
            ],
            [
             0.3,
             "#f1b6da"
            ],
            [
             0.4,
             "#fde0ef"
            ],
            [
             0.5,
             "#f7f7f7"
            ],
            [
             0.6,
             "#e6f5d0"
            ],
            [
             0.7,
             "#b8e186"
            ],
            [
             0.8,
             "#7fbc41"
            ],
            [
             0.9,
             "#4d9221"
            ],
            [
             1,
             "#276419"
            ]
           ],
           "sequential": [
            [
             0,
             "#0d0887"
            ],
            [
             0.1111111111111111,
             "#46039f"
            ],
            [
             0.2222222222222222,
             "#7201a8"
            ],
            [
             0.3333333333333333,
             "#9c179e"
            ],
            [
             0.4444444444444444,
             "#bd3786"
            ],
            [
             0.5555555555555556,
             "#d8576b"
            ],
            [
             0.6666666666666666,
             "#ed7953"
            ],
            [
             0.7777777777777778,
             "#fb9f3a"
            ],
            [
             0.8888888888888888,
             "#fdca26"
            ],
            [
             1,
             "#f0f921"
            ]
           ],
           "sequentialminus": [
            [
             0,
             "#0d0887"
            ],
            [
             0.1111111111111111,
             "#46039f"
            ],
            [
             0.2222222222222222,
             "#7201a8"
            ],
            [
             0.3333333333333333,
             "#9c179e"
            ],
            [
             0.4444444444444444,
             "#bd3786"
            ],
            [
             0.5555555555555556,
             "#d8576b"
            ],
            [
             0.6666666666666666,
             "#ed7953"
            ],
            [
             0.7777777777777778,
             "#fb9f3a"
            ],
            [
             0.8888888888888888,
             "#fdca26"
            ],
            [
             1,
             "#f0f921"
            ]
           ]
          },
          "colorway": [
           "#636efa",
           "#EF553B",
           "#00cc96",
           "#ab63fa",
           "#FFA15A",
           "#19d3f3",
           "#FF6692",
           "#B6E880",
           "#FF97FF",
           "#FECB52"
          ],
          "font": {
           "color": "#2a3f5f"
          },
          "geo": {
           "bgcolor": "white",
           "lakecolor": "white",
           "landcolor": "#E5ECF6",
           "showlakes": true,
           "showland": true,
           "subunitcolor": "white"
          },
          "hoverlabel": {
           "align": "left"
          },
          "hovermode": "closest",
          "mapbox": {
           "style": "light"
          },
          "paper_bgcolor": "white",
          "plot_bgcolor": "#E5ECF6",
          "polar": {
           "angularaxis": {
            "gridcolor": "white",
            "linecolor": "white",
            "ticks": ""
           },
           "bgcolor": "#E5ECF6",
           "radialaxis": {
            "gridcolor": "white",
            "linecolor": "white",
            "ticks": ""
           }
          },
          "scene": {
           "xaxis": {
            "backgroundcolor": "#E5ECF6",
            "gridcolor": "white",
            "gridwidth": 2,
            "linecolor": "white",
            "showbackground": true,
            "ticks": "",
            "zerolinecolor": "white"
           },
           "yaxis": {
            "backgroundcolor": "#E5ECF6",
            "gridcolor": "white",
            "gridwidth": 2,
            "linecolor": "white",
            "showbackground": true,
            "ticks": "",
            "zerolinecolor": "white"
           },
           "zaxis": {
            "backgroundcolor": "#E5ECF6",
            "gridcolor": "white",
            "gridwidth": 2,
            "linecolor": "white",
            "showbackground": true,
            "ticks": "",
            "zerolinecolor": "white"
           }
          },
          "shapedefaults": {
           "line": {
            "color": "#2a3f5f"
           }
          },
          "ternary": {
           "aaxis": {
            "gridcolor": "white",
            "linecolor": "white",
            "ticks": ""
           },
           "baxis": {
            "gridcolor": "white",
            "linecolor": "white",
            "ticks": ""
           },
           "bgcolor": "#E5ECF6",
           "caxis": {
            "gridcolor": "white",
            "linecolor": "white",
            "ticks": ""
           }
          },
          "title": {
           "x": 0.05
          },
          "xaxis": {
           "automargin": true,
           "gridcolor": "white",
           "linecolor": "white",
           "ticks": "",
           "title": {
            "standoff": 15
           },
           "zerolinecolor": "white",
           "zerolinewidth": 2
          },
          "yaxis": {
           "automargin": true,
           "gridcolor": "white",
           "linecolor": "white",
           "ticks": "",
           "title": {
            "standoff": 15
           },
           "zerolinecolor": "white",
           "zerolinewidth": 2
          }
         }
        },
        "title": {
         "text": "Electricity share per canton"
        },
        "xaxis": {
         "anchor": "y",
         "domain": [
          0,
          1
         ],
         "title": {
          "text": "energyreporter_date"
         }
        },
        "yaxis": {
         "anchor": "x",
         "domain": [
          0,
          1
         ],
         "title": {
          "text": "electric_car_share"
         }
        }
       }
      }
     },
     "metadata": {},
     "output_type": "display_data"
    },
    {
     "name": "stdout",
     "output_type": "stream",
     "text": [
      "https://plotly.com/~ogim/81/\n",
      "link:\n",
      "<iframe id=\"igraph\" scrolling=\"no\" style=\"border:none;\" seamless=\"seamless\" src=\"https://plotly.com/~ogim/81.embed\" height=\"525\" width=\"100%\"></iframe>\n"
     ]
    }
   ],
   "source": [
    "import plotly.express as px\n",
    "\n",
    "fig = px.line(df_canton , x = 'energyreporter_date', y = 'electric_car_share', color = 'canton',title=\"Electricity share per canton\")\n",
    "fig.show()\n",
    "send_figure_to_internet(fig,'energy_timeseries_canton')"
   ]
  }
 ],
 "metadata": {
  "interpreter": {
   "hash": "383ff3a15dd6869fb1b50df9c3d6b174ef9c6411299a4260eb84ddaf02a83d7f"
  },
  "kernelspec": {
   "display_name": "Python 3.8.3 ('base')",
   "language": "python",
   "name": "python3"
  },
  "language_info": {
   "codemirror_mode": {
    "name": "ipython",
    "version": 3
   },
   "file_extension": ".py",
   "mimetype": "text/x-python",
   "name": "python",
   "nbconvert_exporter": "python",
   "pygments_lexer": "ipython3",
   "version": "3.8.12"
  },
  "orig_nbformat": 4
 },
 "nbformat": 4,
 "nbformat_minor": 2
}
