{
 "cells": [
  {
   "cell_type": "markdown",
   "metadata": {},
   "source": [
    "# Swiss Population basic Analysis"
   ]
  },
  {
   "cell_type": "markdown",
   "metadata": {},
   "source": [
    "## Swiss Data\n",
    "This dataset is provided by the swiss government. It contains yearly data (from 1981 till 2020) on the population of every canton, district and municipality in switzerland by gender. To download it, use the this [link](https://www.pxweb.bfs.admin.ch/pxweb/en/px-x-0102020000_201/px-x-0102020000_201/px-x-0102020000_201.px)."
   ]
  },
  {
   "cell_type": "code",
   "execution_count": 11,
   "metadata": {},
   "outputs": [],
   "source": [
    "import pandas as pd\n",
    "import numpy as np\n",
    "import matplotlib.pyplot as plt\n",
    "import re"
   ]
  },
  {
   "cell_type": "code",
   "execution_count": 2,
   "metadata": {},
   "outputs": [],
   "source": [
    "pop_df = pd.read_excel('data/px-x-0102020000_201_20220406-142814.xlsx',header=2)"
   ]
  },
  {
   "cell_type": "markdown",
   "metadata": {},
   "source": [
    "## Preprocessing\n",
    "\n",
    "This data is made to be read in an excel file to we will have to slightly reformat it a bit"
   ]
  },
  {
   "cell_type": "code",
   "execution_count": 3,
   "metadata": {},
   "outputs": [
    {
     "data": {
      "text/html": [
       "<div>\n",
       "<style scoped>\n",
       "    .dataframe tbody tr th:only-of-type {\n",
       "        vertical-align: middle;\n",
       "    }\n",
       "\n",
       "    .dataframe tbody tr th {\n",
       "        vertical-align: top;\n",
       "    }\n",
       "\n",
       "    .dataframe thead th {\n",
       "        text-align: right;\n",
       "    }\n",
       "</style>\n",
       "<table border=\"1\" class=\"dataframe\">\n",
       "  <thead>\n",
       "    <tr style=\"text-align: right;\">\n",
       "      <th></th>\n",
       "      <th>Unnamed: 0</th>\n",
       "      <th>Unnamed: 1</th>\n",
       "      <th>Unnamed: 2</th>\n",
       "      <th>Unnamed: 3</th>\n",
       "      <th>Unnamed: 4</th>\n",
       "      <th>Population on 1 January</th>\n",
       "    </tr>\n",
       "  </thead>\n",
       "  <tbody>\n",
       "    <tr>\n",
       "      <th>0</th>\n",
       "      <td>1981</td>\n",
       "      <td>1981.0</td>\n",
       "      <td>Switzerland</td>\n",
       "      <td>Citizenship (category) - total</td>\n",
       "      <td>Sex - total</td>\n",
       "      <td>6335243.0</td>\n",
       "    </tr>\n",
       "    <tr>\n",
       "      <th>1</th>\n",
       "      <td>NaN</td>\n",
       "      <td>NaN</td>\n",
       "      <td>NaN</td>\n",
       "      <td>NaN</td>\n",
       "      <td>Male</td>\n",
       "      <td>3081965.0</td>\n",
       "    </tr>\n",
       "    <tr>\n",
       "      <th>2</th>\n",
       "      <td>NaN</td>\n",
       "      <td>NaN</td>\n",
       "      <td>NaN</td>\n",
       "      <td>NaN</td>\n",
       "      <td>Female</td>\n",
       "      <td>3253278.0</td>\n",
       "    </tr>\n",
       "    <tr>\n",
       "      <th>3</th>\n",
       "      <td>NaN</td>\n",
       "      <td>NaN</td>\n",
       "      <td>- Zürich</td>\n",
       "      <td>Citizenship (category) - total</td>\n",
       "      <td>Sex - total</td>\n",
       "      <td>1120815.0</td>\n",
       "    </tr>\n",
       "  </tbody>\n",
       "</table>\n",
       "</div>"
      ],
      "text/plain": [
       "  Unnamed: 0  Unnamed: 1   Unnamed: 2                      Unnamed: 3  \\\n",
       "0       1981      1981.0  Switzerland  Citizenship (category) - total   \n",
       "1        NaN         NaN          NaN                             NaN   \n",
       "2        NaN         NaN          NaN                             NaN   \n",
       "3        NaN         NaN     - Zürich  Citizenship (category) - total   \n",
       "\n",
       "    Unnamed: 4  Population on 1 January  \n",
       "0  Sex - total                6335243.0  \n",
       "1         Male                3081965.0  \n",
       "2       Female                3253278.0  \n",
       "3  Sex - total                1120815.0  "
      ]
     },
     "execution_count": 3,
     "metadata": {},
     "output_type": "execute_result"
    }
   ],
   "source": [
    "pop_df.head(4)"
   ]
  },
  {
   "cell_type": "markdown",
   "metadata": {},
   "source": [
    "Let's first rename the unnamed columns, drop the irrelevant ones and fill NaN values with their actual value. Finally, we remove the last rows of the dataframe because they have nothing to do with the data."
   ]
  },
  {
   "cell_type": "code",
   "execution_count": 4,
   "metadata": {},
   "outputs": [
    {
     "data": {
      "text/html": [
       "<div>\n",
       "<style scoped>\n",
       "    .dataframe tbody tr th:only-of-type {\n",
       "        vertical-align: middle;\n",
       "    }\n",
       "\n",
       "    .dataframe tbody tr th {\n",
       "        vertical-align: top;\n",
       "    }\n",
       "\n",
       "    .dataframe thead th {\n",
       "        text-align: right;\n",
       "    }\n",
       "</style>\n",
       "<table border=\"1\" class=\"dataframe\">\n",
       "  <thead>\n",
       "    <tr style=\"text-align: right;\">\n",
       "      <th></th>\n",
       "      <th>year</th>\n",
       "      <th>region</th>\n",
       "      <th>population_type</th>\n",
       "      <th>Population on 1 January</th>\n",
       "    </tr>\n",
       "  </thead>\n",
       "  <tbody>\n",
       "    <tr>\n",
       "      <th>0</th>\n",
       "      <td>1981.0</td>\n",
       "      <td>Switzerland</td>\n",
       "      <td>Sex - total</td>\n",
       "      <td>6335243.0</td>\n",
       "    </tr>\n",
       "    <tr>\n",
       "      <th>1</th>\n",
       "      <td>1981.0</td>\n",
       "      <td>Switzerland</td>\n",
       "      <td>Male</td>\n",
       "      <td>3081965.0</td>\n",
       "    </tr>\n",
       "    <tr>\n",
       "      <th>2</th>\n",
       "      <td>1981.0</td>\n",
       "      <td>Switzerland</td>\n",
       "      <td>Female</td>\n",
       "      <td>3253278.0</td>\n",
       "    </tr>\n",
       "    <tr>\n",
       "      <th>3</th>\n",
       "      <td>1981.0</td>\n",
       "      <td>- Zürich</td>\n",
       "      <td>Sex - total</td>\n",
       "      <td>1120815.0</td>\n",
       "    </tr>\n",
       "    <tr>\n",
       "      <th>4</th>\n",
       "      <td>1981.0</td>\n",
       "      <td>- Zürich</td>\n",
       "      <td>Male</td>\n",
       "      <td>541902.0</td>\n",
       "    </tr>\n",
       "    <tr>\n",
       "      <th>...</th>\n",
       "      <td>...</td>\n",
       "      <td>...</td>\n",
       "      <td>...</td>\n",
       "      <td>...</td>\n",
       "    </tr>\n",
       "    <tr>\n",
       "      <th>284632</th>\n",
       "      <td>2020.0</td>\n",
       "      <td>......6809 Haute-Ajoie</td>\n",
       "      <td>Male</td>\n",
       "      <td>549.0</td>\n",
       "    </tr>\n",
       "    <tr>\n",
       "      <th>284633</th>\n",
       "      <td>2020.0</td>\n",
       "      <td>......6809 Haute-Ajoie</td>\n",
       "      <td>Female</td>\n",
       "      <td>536.0</td>\n",
       "    </tr>\n",
       "    <tr>\n",
       "      <th>284634</th>\n",
       "      <td>2020.0</td>\n",
       "      <td>......6810 La Baroche</td>\n",
       "      <td>Sex - total</td>\n",
       "      <td>1142.0</td>\n",
       "    </tr>\n",
       "    <tr>\n",
       "      <th>284635</th>\n",
       "      <td>2020.0</td>\n",
       "      <td>......6810 La Baroche</td>\n",
       "      <td>Male</td>\n",
       "      <td>589.0</td>\n",
       "    </tr>\n",
       "    <tr>\n",
       "      <th>284636</th>\n",
       "      <td>2020.0</td>\n",
       "      <td>......6810 La Baroche</td>\n",
       "      <td>Female</td>\n",
       "      <td>553.0</td>\n",
       "    </tr>\n",
       "  </tbody>\n",
       "</table>\n",
       "<p>284520 rows × 4 columns</p>\n",
       "</div>"
      ],
      "text/plain": [
       "          year                  region population_type  \\\n",
       "0       1981.0             Switzerland     Sex - total   \n",
       "1       1981.0             Switzerland            Male   \n",
       "2       1981.0             Switzerland          Female   \n",
       "3       1981.0                - Zürich     Sex - total   \n",
       "4       1981.0                - Zürich            Male   \n",
       "...        ...                     ...             ...   \n",
       "284632  2020.0  ......6809 Haute-Ajoie            Male   \n",
       "284633  2020.0  ......6809 Haute-Ajoie          Female   \n",
       "284634  2020.0   ......6810 La Baroche     Sex - total   \n",
       "284635  2020.0   ......6810 La Baroche            Male   \n",
       "284636  2020.0   ......6810 La Baroche          Female   \n",
       "\n",
       "        Population on 1 January  \n",
       "0                     6335243.0  \n",
       "1                     3081965.0  \n",
       "2                     3253278.0  \n",
       "3                     1120815.0  \n",
       "4                      541902.0  \n",
       "...                         ...  \n",
       "284632                    549.0  \n",
       "284633                    536.0  \n",
       "284634                   1142.0  \n",
       "284635                    589.0  \n",
       "284636                    553.0  \n",
       "\n",
       "[284520 rows x 4 columns]"
      ]
     },
     "execution_count": 4,
     "metadata": {},
     "output_type": "execute_result"
    }
   ],
   "source": [
    "pop_df = pop_df.rename(columns ={'Unnamed: 4': 'population_type', 'Unnamed: 2': 'region', 'Unnamed: 1': 'year'}) \\\n",
    "                .drop(columns = ['Unnamed: 3','Unnamed: 0']) \\\n",
    "                .fillna(method=\"ffill\")\n",
    "pop_df = pop_df[pop_df.region != 'Unknown']\n",
    "pop_df"
   ]
  },
  {
   "cell_type": "markdown",
   "metadata": {},
   "source": [
    "The names in the `region` column have a coded writing:\n",
    "* Names starting with the character `-` indicate that the region is a canton\n",
    "* Names starting with the character `>>` indicate that the region is a district\n",
    "* Names starting with the character `......` indicate that the region is a municipality. The number after that is the municipalitie's `BFS_NUMBER` (a unique id of the municipality provided by the swiss government)\n",
    "* Names starting with no special character indicate a country\n",
    "\n",
    "Instead of having this coded writing, we will add a column named `region_type` indicating whether the region is a canton, a district, a commune or a country. Additionally, we will add the column `bfs_nb` which will have the bfs number of the commune (if it is one, otherwise we will put a NaN)."
   ]
  },
  {
   "cell_type": "code",
   "execution_count": 5,
   "metadata": {},
   "outputs": [],
   "source": [
    "def assign_region_type(region):\n",
    "    if region[0] == '-':\n",
    "        return 'canton'\n",
    "    elif region[:2] == '>>':\n",
    "        return 'district'\n",
    "    elif region[:6] == '......':\n",
    "        return 'commune'\n",
    "    else:\n",
    "        return 'country'\n",
    "\n",
    "\n",
    "pop_df['region_type'] = pop_df.region.apply(assign_region_type)\n",
    "pop_df['bfs_nb'] = pop_df.region.apply(lambda x: re.findall(r'^\\D*(\\d+)', x)[0] if x[:6] == '......' else np.nan)\n"
   ]
  },
  {
   "cell_type": "markdown",
   "metadata": {},
   "source": [
    "Now that we have added these two features let's remove this coded writing from the `region` column"
   ]
  },
  {
   "cell_type": "code",
   "execution_count": 6,
   "metadata": {},
   "outputs": [],
   "source": [
    "\n",
    "def clean_region(region):\n",
    "    words = region.split()\n",
    "    if len(words) > 1:\n",
    "        return ' '.join(words[1:])\n",
    "    else:\n",
    "        return words[0]\n",
    "    \n",
    "\n",
    "pop_df['region'] = pop_df.region.apply(clean_region)\n",
    "pop_df['Population on 1 January'] = pop_df['Population on 1 January'].apply(int)\n",
    "pop_df['year'] = pop_df['year'].apply(int)"
   ]
  },
  {
   "cell_type": "code",
   "execution_count": 15,
   "metadata": {},
   "outputs": [
    {
     "data": {
      "text/html": [
       "<div>\n",
       "<style scoped>\n",
       "    .dataframe tbody tr th:only-of-type {\n",
       "        vertical-align: middle;\n",
       "    }\n",
       "\n",
       "    .dataframe tbody tr th {\n",
       "        vertical-align: top;\n",
       "    }\n",
       "\n",
       "    .dataframe thead th {\n",
       "        text-align: right;\n",
       "    }\n",
       "</style>\n",
       "<table border=\"1\" class=\"dataframe\">\n",
       "  <thead>\n",
       "    <tr style=\"text-align: right;\">\n",
       "      <th></th>\n",
       "      <th>year</th>\n",
       "      <th>region</th>\n",
       "      <th>population_type</th>\n",
       "      <th>Population on 1 January</th>\n",
       "      <th>region_type</th>\n",
       "      <th>bfs_nb</th>\n",
       "    </tr>\n",
       "  </thead>\n",
       "  <tbody>\n",
       "    <tr>\n",
       "      <th>0</th>\n",
       "      <td>1981</td>\n",
       "      <td>Switzerland</td>\n",
       "      <td>Sex - total</td>\n",
       "      <td>6335243</td>\n",
       "      <td>country</td>\n",
       "      <td>NaN</td>\n",
       "    </tr>\n",
       "    <tr>\n",
       "      <th>1</th>\n",
       "      <td>1981</td>\n",
       "      <td>Switzerland</td>\n",
       "      <td>Male</td>\n",
       "      <td>3081965</td>\n",
       "      <td>country</td>\n",
       "      <td>NaN</td>\n",
       "    </tr>\n",
       "    <tr>\n",
       "      <th>2</th>\n",
       "      <td>1981</td>\n",
       "      <td>Switzerland</td>\n",
       "      <td>Female</td>\n",
       "      <td>3253278</td>\n",
       "      <td>country</td>\n",
       "      <td>NaN</td>\n",
       "    </tr>\n",
       "    <tr>\n",
       "      <th>3</th>\n",
       "      <td>1981</td>\n",
       "      <td>Zürich</td>\n",
       "      <td>Sex - total</td>\n",
       "      <td>1120815</td>\n",
       "      <td>canton</td>\n",
       "      <td>NaN</td>\n",
       "    </tr>\n",
       "    <tr>\n",
       "      <th>4</th>\n",
       "      <td>1981</td>\n",
       "      <td>Zürich</td>\n",
       "      <td>Male</td>\n",
       "      <td>541902</td>\n",
       "      <td>canton</td>\n",
       "      <td>NaN</td>\n",
       "    </tr>\n",
       "    <tr>\n",
       "      <th>5</th>\n",
       "      <td>1981</td>\n",
       "      <td>Zürich</td>\n",
       "      <td>Female</td>\n",
       "      <td>578913</td>\n",
       "      <td>canton</td>\n",
       "      <td>NaN</td>\n",
       "    </tr>\n",
       "    <tr>\n",
       "      <th>6</th>\n",
       "      <td>1981</td>\n",
       "      <td>Bezirk Affoltern</td>\n",
       "      <td>Sex - total</td>\n",
       "      <td>29374</td>\n",
       "      <td>district</td>\n",
       "      <td>NaN</td>\n",
       "    </tr>\n",
       "    <tr>\n",
       "      <th>7</th>\n",
       "      <td>1981</td>\n",
       "      <td>Bezirk Affoltern</td>\n",
       "      <td>Male</td>\n",
       "      <td>14821</td>\n",
       "      <td>district</td>\n",
       "      <td>NaN</td>\n",
       "    </tr>\n",
       "    <tr>\n",
       "      <th>8</th>\n",
       "      <td>1981</td>\n",
       "      <td>Bezirk Affoltern</td>\n",
       "      <td>Female</td>\n",
       "      <td>14553</td>\n",
       "      <td>district</td>\n",
       "      <td>NaN</td>\n",
       "    </tr>\n",
       "    <tr>\n",
       "      <th>9</th>\n",
       "      <td>1981</td>\n",
       "      <td>Aeugst am Albis</td>\n",
       "      <td>Sex - total</td>\n",
       "      <td>867</td>\n",
       "      <td>commune</td>\n",
       "      <td>0001</td>\n",
       "    </tr>\n",
       "  </tbody>\n",
       "</table>\n",
       "</div>"
      ],
      "text/plain": [
       "   year            region population_type  Population on 1 January  \\\n",
       "0  1981       Switzerland     Sex - total                  6335243   \n",
       "1  1981       Switzerland            Male                  3081965   \n",
       "2  1981       Switzerland          Female                  3253278   \n",
       "3  1981            Zürich     Sex - total                  1120815   \n",
       "4  1981            Zürich            Male                   541902   \n",
       "5  1981            Zürich          Female                   578913   \n",
       "6  1981  Bezirk Affoltern     Sex - total                    29374   \n",
       "7  1981  Bezirk Affoltern            Male                    14821   \n",
       "8  1981  Bezirk Affoltern          Female                    14553   \n",
       "9  1981   Aeugst am Albis     Sex - total                      867   \n",
       "\n",
       "  region_type bfs_nb  \n",
       "0     country    NaN  \n",
       "1     country    NaN  \n",
       "2     country    NaN  \n",
       "3      canton    NaN  \n",
       "4      canton    NaN  \n",
       "5      canton    NaN  \n",
       "6    district    NaN  \n",
       "7    district    NaN  \n",
       "8    district    NaN  \n",
       "9     commune   0001  "
      ]
     },
     "execution_count": 15,
     "metadata": {},
     "output_type": "execute_result"
    }
   ],
   "source": [
    "pop_df.head(10)"
   ]
  },
  {
   "cell_type": "markdown",
   "metadata": {},
   "source": [
    "## Basic statistics and insights of data"
   ]
  },
  {
   "cell_type": "markdown",
   "metadata": {},
   "source": [
    "Let's first take a look at the basic statistics on the population"
   ]
  },
  {
   "cell_type": "code",
   "execution_count": 20,
   "metadata": {},
   "outputs": [
    {
     "data": {
      "text/html": [
       "<div>\n",
       "<style scoped>\n",
       "    .dataframe tbody tr th:only-of-type {\n",
       "        vertical-align: middle;\n",
       "    }\n",
       "\n",
       "    .dataframe tbody tr th {\n",
       "        vertical-align: top;\n",
       "    }\n",
       "\n",
       "    .dataframe thead th {\n",
       "        text-align: right;\n",
       "    }\n",
       "</style>\n",
       "<table border=\"1\" class=\"dataframe\">\n",
       "  <thead>\n",
       "    <tr style=\"text-align: right;\">\n",
       "      <th></th>\n",
       "      <th>year</th>\n",
       "      <th>Population on 1 January</th>\n",
       "    </tr>\n",
       "  </thead>\n",
       "  <tbody>\n",
       "    <tr>\n",
       "      <th>count</th>\n",
       "      <td>284520.000000</td>\n",
       "      <td>2.845200e+05</td>\n",
       "    </tr>\n",
       "    <tr>\n",
       "      <th>mean</th>\n",
       "      <td>2000.500000</td>\n",
       "      <td>8.213470e+03</td>\n",
       "    </tr>\n",
       "    <tr>\n",
       "      <th>std</th>\n",
       "      <td>11.543417</td>\n",
       "      <td>1.115277e+05</td>\n",
       "    </tr>\n",
       "    <tr>\n",
       "      <th>min</th>\n",
       "      <td>1981.000000</td>\n",
       "      <td>0.000000e+00</td>\n",
       "    </tr>\n",
       "    <tr>\n",
       "      <th>25%</th>\n",
       "      <td>1990.750000</td>\n",
       "      <td>3.830000e+02</td>\n",
       "    </tr>\n",
       "    <tr>\n",
       "      <th>50%</th>\n",
       "      <td>2000.500000</td>\n",
       "      <td>9.340000e+02</td>\n",
       "    </tr>\n",
       "    <tr>\n",
       "      <th>75%</th>\n",
       "      <td>2010.250000</td>\n",
       "      <td>2.522000e+03</td>\n",
       "    </tr>\n",
       "    <tr>\n",
       "      <th>max</th>\n",
       "      <td>2020.000000</td>\n",
       "      <td>8.606033e+06</td>\n",
       "    </tr>\n",
       "  </tbody>\n",
       "</table>\n",
       "</div>"
      ],
      "text/plain": [
       "                year  Population on 1 January\n",
       "count  284520.000000             2.845200e+05\n",
       "mean     2000.500000             8.213470e+03\n",
       "std        11.543417             1.115277e+05\n",
       "min      1981.000000             0.000000e+00\n",
       "25%      1990.750000             3.830000e+02\n",
       "50%      2000.500000             9.340000e+02\n",
       "75%      2010.250000             2.522000e+03\n",
       "max      2020.000000             8.606033e+06"
      ]
     },
     "execution_count": 20,
     "metadata": {},
     "output_type": "execute_result"
    }
   ],
   "source": [
    "pop_df.describe()"
   ]
  },
  {
   "cell_type": "markdown",
   "metadata": {},
   "source": [
    "The data seems clean and doesn't seem to have any outliers"
   ]
  },
  {
   "cell_type": "markdown",
   "metadata": {},
   "source": [
    "Finally, let's look at the histograms of the population in 2020 by commune and by canton: "
   ]
  },
  {
   "cell_type": "code",
   "execution_count": 16,
   "metadata": {},
   "outputs": [
    {
     "data": {
      "image/png": "[encoded data removed]",
      "text/plain": [
       "<Figure size 432x288 with 1 Axes>"
      ]
     },
     "metadata": {
      "needs_background": "light"
     },
     "output_type": "display_data"
    }
   ],
   "source": [
    "mask = ((pop_df['population_type'] == 'Sex - total') & (pop_df['region_type'] == 'commune') & (pop_df['year'] == 2020))\n",
    "pop_df[mask]['Population on 1 January'].hist(bins = 100)\n",
    "plt.title('Histogram of Popluation of Communes 2020 (y log scale)')\n",
    "plt.yscale('log')\n",
    "plt.ylabel('count')\n",
    "plt.xlabel('population')\n",
    "plt.show()"
   ]
  },
  {
   "cell_type": "markdown",
   "metadata": {},
   "source": [
    "As we can see (and also as expected), the population per commune is right skewed."
   ]
  },
  {
   "cell_type": "code",
   "execution_count": 19,
   "metadata": {},
   "outputs": [
    {
     "data": {
      "image/png": "[encoded data removed]",
      "text/plain": [
       "<Figure size 432x288 with 1 Axes>"
      ]
     },
     "metadata": {
      "needs_background": "light"
     },
     "output_type": "display_data"
    }
   ],
   "source": [
    "mask = ((pop_df['population_type'] == 'Sex - total') & (pop_df['region_type'] == 'canton') & (pop_df['year'] == 2020))\n",
    "pop_df[mask]['Population on 1 January'].hist(bins = 20)\n",
    "plt.title('Histogram of Popluation of Cantons 2020')\n",
    "plt.ylabel('count')\n",
    "plt.xlabel('population')\n",
    "plt.show()"
   ]
  },
  {
   "cell_type": "markdown",
   "metadata": {},
   "source": [
    "As we can see (and also as expected), the population per commune is right skewed."
   ]
  }
 ],
 "metadata": {
  "interpreter": {
   "hash": "383ff3a15dd6869fb1b50df9c3d6b174ef9c6411299a4260eb84ddaf02a83d7f"
  },
  "kernelspec": {
   "display_name": "Python 3.8.3 ('base')",
   "language": "python",
   "name": "python3"
  },
  "language_info": {
   "codemirror_mode": {
    "name": "ipython",
    "version": 3
   },
   "file_extension": ".py",
   "mimetype": "text/x-python",
   "name": "python",
   "nbconvert_exporter": "python",
   "pygments_lexer": "ipython3",
   "version": "3.8.3"
  },
  "orig_nbformat": 4
 },
 "nbformat": 4,
 "nbformat_minor": 2
}
